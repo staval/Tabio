{
 "cells": [
  {
   "cell_type": "markdown",
   "metadata": {},
   "source": [
    "# Sequence Alignment Algorithm"
   ]
  },
  {
   "cell_type": "markdown",
   "metadata": {},
   "source": [
    "## 1. Local Sequence Alignment Algorithm\n",
    "\n",
    "Implement Local Sequence Alignment Algorithm that was studied in class (see first practical session for a reminder)\n",
    "\n",
    "**Input:**\n",
    "\n",
    "- Two amino-acid input sequences $S_1, S_2$\n",
    "- A scoring matrix - can be found in the file *blosum_62.txt*\n",
    "    - This is BLOSUM62 scroing matrix for proteins  \n",
    "    The sign '\\*' in a row or column represents indels score\n",
    "\n",
    "**Output:**\n",
    "- Optimal local alignment of $S_1, S_2$\n",
    "- Optimal alignment score\n",
    "- Start and end indices of the local alignment in $S_1$ and $S_2$\n",
    "- The Dynamic Programming table after the computation is done\n",
    "\n",
    "For example, local alignment of:  "
   ]
  },
  {
   "cell_type": "code",
   "execution_count": 1,
   "metadata": {
    "ExecuteTime": {
     "end_time": "2019-03-27T15:42:30.439735Z",
     "start_time": "2019-03-27T15:42:30.423471Z"
    }
   },
   "outputs": [],
   "source": [
    "s1 = 'YVEGLKMF'  \n",
    "s2 = 'ELGLMBAR'"
   ]
  },
  {
   "cell_type": "markdown",
   "metadata": {},
   "source": [
    "should return the following output:"
   ]
  },
  {
   "cell_type": "code",
   "execution_count": 2,
   "metadata": {
    "ExecuteTime": {
     "end_time": "2019-03-27T15:42:30.488426Z",
     "start_time": "2019-03-27T15:42:30.443491Z"
    }
   },
   "outputs": [
    {
     "name": "stdout",
     "output_type": "stream",
     "text": [
      "E_GLKM\n",
      "ELGL_M\n",
      "score = 12\n",
      "s1 (2, 7)\n",
      "s2 (0, 5)\n"
     ]
    }
   ],
   "source": [
    "print('\\n'.join(['E_GLKM','ELGL_M','score = 12','s1 (2, 7)','s2 (0, 5)']))"
   ]
  },
  {
   "cell_type": "markdown",
   "metadata": {},
   "source": [
    "You don't need to print the dynamic programming table, but keep it for part 2"
   ]
  },
  {
   "cell_type": "markdown",
   "metadata": {},
   "source": [
    "In this example, the optimal local alignment is between **seq1[2:7]** and **seq2[0:5]** (the last index is not included)"
   ]
  },
  {
   "cell_type": "code",
   "execution_count": 3,
   "metadata": {
    "ExecuteTime": {
     "end_time": "2019-03-27T15:42:30.535444Z",
     "start_time": "2019-03-27T15:42:30.489939Z"
    }
   },
   "outputs": [
    {
     "name": "stdout",
     "output_type": "stream",
     "text": [
      "EGLKM\n",
      "ELGLM\n"
     ]
    }
   ],
   "source": [
    "print(s1[2:7])\n",
    "print(s2[0:5])"
   ]
  },
  {
   "cell_type": "markdown",
   "metadata": {},
   "source": [
    "Run your algorithm on this example for sanity check"
   ]
  },
  {
   "cell_type": "markdown",
   "metadata": {},
   "source": [
    "## solution  Question 1\n"
   ]
  },
  {
   "cell_type": "code",
   "execution_count": 4,
   "metadata": {
    "ExecuteTime": {
     "end_time": "2019-03-27T15:42:30.588035Z",
     "start_time": "2019-03-27T15:42:30.537643Z"
    }
   },
   "outputs": [],
   "source": [
    "# global vairabels\n",
    "scoring_matrix = {}\n",
    "dynamic_prog_table = []"
   ]
  },
  {
   "cell_type": "code",
   "execution_count": 5,
   "metadata": {
    "ExecuteTime": {
     "end_time": "2019-03-27T15:42:30.772855Z",
     "start_time": "2019-03-27T15:42:30.591175Z"
    },
    "code_folding": []
   },
   "outputs": [],
   "source": [
    "import itertools\n",
    "import time\n",
    "import numpy as np\n",
    "\n",
    "class ComputingMatrix:\n",
    "\n",
    "    def __init__(self, score_matrix, S1,  S2):\n",
    "        self.S1 = S1\n",
    "        self.S2 = S2\n",
    "        self.score_f = score_matrix\n",
    "\n",
    "    def _opt(self, opt_matrix, i, j):\n",
    "        cuss_opt = opt_matrix[i, j] = max([\n",
    "            opt_matrix[i-1, j] - 4,\n",
    "            opt_matrix[i, j-1] - 4,\n",
    "            opt_matrix[i-1, j-1] + self.score_f[self.S1[i-1], self.S2[j-1]],\n",
    "            0\n",
    "                ])\n",
    "        return cuss_opt\n",
    "\n",
    "    def _feeld_max(self, global_max, global_ind, curr_opt, curr_ind):\n",
    "\n",
    "        if global_max > curr_opt:\n",
    "            return global_max, global_ind\n",
    "        else:\n",
    "            return curr_opt, curr_ind\n",
    "\n",
    "    def feel_opt_matrix(self):\n",
    "\n",
    "        max = 0\n",
    "        opt_ind = (0, 0)\n",
    "        opt_matrix = np.zeros([len(self.S1), len(self.S2)])\n",
    "\n",
    "        for i in range(1, len(self.S1)):\n",
    "            for j in range(1, len(self.S2)):\n",
    "                curr_opt = self._opt(opt_matrix, i, j)\n",
    "                opt_matrix[i, j] = curr_opt\n",
    "                max, opt_ind = self._feeld_max(max, opt_ind, curr_opt, (i, j))\n",
    "\n",
    "        return opt_matrix, max, opt_ind[0], opt_ind[1]\n",
    "\n",
    "    def reconstruction(self, opt_matrix, S1_end, S2_end):\n",
    "\n",
    "        aling_S1, aling_S2 = \"\", \"\"\n",
    "        S1_bigin, S2_bigin = S1_end, S2_end\n",
    "\n",
    "        curr_opt = opt_matrix[(S1_bigin, S2_bigin)]\n",
    "\n",
    "        while curr_opt > 0:\n",
    "\n",
    "            ops1 = opt_matrix[(S1_bigin - 1, S2_bigin)] + self.score_f[self.S1[S1_bigin], '*']\n",
    "            ops2 = opt_matrix[(S1_bigin, S2_bigin - 1)] + self.score_f['*', self.S2[S2_bigin]]\n",
    "\n",
    "            if curr_opt == ops1:\n",
    "                aling_S1 = self.S1[S1_bigin] + aling_S1\n",
    "                aling_S2 = '_' + aling_S2\n",
    "                S1_bigin -= 1\n",
    "            elif curr_opt == ops2:\n",
    "                aling_S2 = self.S2[S2_bigin] + aling_S2\n",
    "                aling_S1 = '_' + aling_S1\n",
    "                S2_bigin -= 1\n",
    "            else:\n",
    "                aling_S1 = self.S1[S1_bigin] + aling_S1\n",
    "                aling_S2 = self.S2[S2_bigin] + aling_S2\n",
    "                S1_bigin -= 1\n",
    "                S2_bigin -= 1\n",
    "            curr_opt = opt_matrix[(S1_bigin, S2_bigin)]\n",
    "\n",
    "        return aling_S1, aling_S2, (S1_bigin, S1_end), (S2_bigin, S2_end)\n"
   ]
  },
  {
   "cell_type": "code",
   "execution_count": 6,
   "metadata": {
    "ExecuteTime": {
     "end_time": "2019-03-27T15:42:30.791736Z",
     "start_time": "2019-03-27T15:42:30.778440Z"
    },
    "code_folding": [
     13,
     25,
     39
    ]
   },
   "outputs": [],
   "source": [
    "# copy the score matrix to arr\n",
    "def create_score_arr(matrix_file, first_line, last_line):\n",
    "\n",
    "    output_arr = []\n",
    "    with open(matrix_file) as file:\n",
    "\n",
    "        for line in itertools.islice(file, first_line, last_line):\n",
    "            output_arr.append(line.split())\n",
    "        output_arr[0] = [\"i\\j\"] + output_arr[0]\n",
    "\n",
    "    return output_arr\n",
    "\n",
    "# receive scores file and create a score df\n",
    "def create_score_dict(first_line=6, last_line=31, matrix_file=\"/home/stav/PycharmProjects/tabio-Ass1/blosum_62.txt\"):\n",
    "\n",
    "    raw = create_score_arr(matrix_file, first_line, last_line)\n",
    "\n",
    "    # create a score dictionary\n",
    "    output_dict = {}\n",
    "    for i in range(1, len(raw)):\n",
    "        for j in range(1, len(raw[0])):\n",
    "            output_dict[(raw[i][0], raw[0][j])] = int(raw[i][j])\n",
    "\n",
    "    return output_dict\n",
    "\n",
    "def local_elingment(S1, S2, scoring_matrix):\n",
    "    \n",
    "    comput_matrix = ComputingMatrix(scoring_matrix, S1, S2)\n",
    "    \n",
    "    # return the Dynamic Programming table\n",
    "    # return the optimal alingment score and thr  \n",
    "    # return the indeces of the local alingment in S1 and S2     \n",
    "    dynamic_prog_table, optimal_aling_score, S1_end, S2_end = comput_matrix.feel_opt_matrix()\n",
    "    \n",
    "    # restoration te local alingment     \n",
    "    S1_aling, S2_aling, S1_indexeses, S2_indexes = comput_matrix.reconstruction(dynamic_prog_table,\n",
    "                                                                               S1_end, S2_end)\n",
    "    return dynamic_prog_table, S1_aling, S2_aling, optimal_aling_score, S1_indexeses, S2_indexes\n",
    "\n",
    "def print_local_elingment (solution):\n",
    "\n",
    "    print(solution[1])\n",
    "    print(solution[2])\n",
    "    print(\"score = \", solution[3])\n",
    "    print(\"s1 \", solution[4])\n",
    "    print(\"s2 \", solution[5])"
   ]
  },
  {
   "cell_type": "code",
   "execution_count": 7,
   "metadata": {
    "ExecuteTime": {
     "end_time": "2019-03-27T15:42:30.848090Z",
     "start_time": "2019-03-27T15:42:30.797064Z"
    }
   },
   "outputs": [
    {
     "name": "stdout",
     "output_type": "stream",
     "text": [
      "G_LKMF\n",
      "LGLM_B\n",
      "score =  12.0\n",
      "s1  (2, 7)\n",
      "s2  (0, 5)\n"
     ]
    }
   ],
   "source": [
    "blosum62_file_path = \"./blosum_62.txt\"\n",
    "S1 = 'YVEGLKMF'\n",
    "S2 = 'ELGLMBAR'\n",
    "\n",
    "scoring_matrix = create_score_dict(matrix_file=blosum62_file_path)\n",
    "\n",
    "solution = local_elingment(S1, S2, scoring_matrix)\n",
    "\n",
    "print_local_elingment(solution)"
   ]
  },
  {
   "cell_type": "markdown",
   "metadata": {},
   "source": [
    "## 2. Running the algorithm and analyzing the results\n",
    "\n",
    "In this section, you will run your algorithm on the sequences from *seq1.fasta* and *seq2.fasta* files\n",
    "\n",
    "**Input:**\n",
    "\n",
    "- **query** protein: The file *seq1.fasta* contains a single protein:  \n",
    "    The first line starts with '>' and the name of the sequecne.  \n",
    "    The concatenation of all lines that come after '>' is the sequence itself.\n",
    "\n",
    "- **database**: The file *seq2.fasta* contains a very long sequence of amino acids, representing a database of proteins (same format as *seq1.fasta*)\n",
    "- A scoring matrix - can be found in the file blosum_62.txt\n",
    "\n",
    "> Note: In the Dynamic Programming table, the **query** should be represented by the **rows** and the **database** should be represented by the **columns**\n",
    "\n",
    "Execute local alignment of the query against the database and **report**:\n",
    "- Optimal alignment of query and database\n",
    "- Optimal alignment score\n",
    "- Start and end indices of the local alignment in **query** and **database**\n",
    "- Runtime performance"
   ]
  },
  {
   "cell_type": "code",
   "execution_count": 8,
   "metadata": {
    "ExecuteTime": {
     "end_time": "2019-03-27T15:42:30.879209Z",
     "start_time": "2019-03-27T15:42:30.858365Z"
    }
   },
   "outputs": [],
   "source": [
    "def pars_sequecne(sequecne_file_path):\n",
    "\n",
    "    with open(sequecne_file_path) as file:\n",
    "        lines = file.read().split('\\n')\n",
    "\n",
    "    return \"\".join([line.rstrip() for line in lines[1:]])\n",
    "  "
   ]
  },
  {
   "cell_type": "code",
   "execution_count": 9,
   "metadata": {
    "ExecuteTime": {
     "end_time": "2019-03-27T15:49:32.440978Z",
     "start_time": "2019-03-27T15:42:30.882933Z"
    }
   },
   "outputs": [
    {
     "name": "stdout",
     "output_type": "stream",
     "text": [
      "CPU times: user 6min 53s, sys: 6.59 s, total: 7min\n",
      "Wall time: 7min 1s\n"
     ]
    }
   ],
   "source": [
    "%%time\n",
    "\n",
    "seq1 = pars_sequecne(\"./seq1.fasta\")\n",
    "seq2 = pars_sequecne(\"./seq2.fasta\")\n",
    "\n",
    "solution = local_elingment(seq1, seq2, scoring_matrix)\n",
    "\n",
    "dynamic_prog_table = solution[0]"
   ]
  },
  {
   "cell_type": "code",
   "execution_count": 10,
   "metadata": {
    "ExecuteTime": {
     "end_time": "2019-03-27T15:49:32.450368Z",
     "start_time": "2019-03-27T15:49:32.445059Z"
    }
   },
   "outputs": [
    {
     "name": "stdout",
     "output_type": "stream",
     "text": [
      "VAALLLGAAG_HLYPGEVCPGMDIRNNLTRLHELENCSVIEGHLQILLMFKTRPEDFRDLSFPKLIMITDYLLLFRVYGLESLKDLFPNLTVIRGSRLFFNYALVIFEMVHLKELGLYNLMNITRGSVRIEKNNELCYLATIDWSRILDSVEDNYIVLNKDDNEECGDICPGTAKGKTNCPATVINGQFVERCWTHSHCQKVCPTICKSHGCTAEGLCCHSECLGNCSQPDDPTKCVACRNFYLDGRCVETCPPPYYHFQDWRCVNFSFCQDLHHKCKNSRRQGCHQYVIHNNKCIPECPSGYTMNSSNLLCTPCLGPCPKVCHLLEGEKTIDSVTSAQELRGCTVINGSLIINIRGGNNLAAELEANLGLIEEISGYLKIRRSYALVSLSFFRKLRLIRGETLEIGNYSFYALDNQNLRQLWDWSKHNLTITQGKLFFHYNPKLCLSEIHKMEEVSGTKGRQERNDIALKTNGDQASCENELLKFSYIRTSFDKILLRWEPYWPPDFRDLLGFMLFYKEAPYQNVTEFDGQDACGSNSWTVVDIDPPLRSNDPKSQNHPGWLMRGLKPWTQYAIFVKTLVTFSDERRTYGAKSDIIYVQTDATNPSVPLDPISVSNSSSQIILKWKPPSDPNGNITHYLVFWERQAEDSELFELDYCLKGLKLPSRTWSPPFESEDSQKHNQSEYEDSAGECCSCPKTDSQILKELEESSFRKTFEDYLHNVVFVPRKTSSGTGAEDPRPSRKRRSLGDVGNVTVAVPTVAAFPNTSSTSVPTSPEEHRPFEKVVNKESLVISGLRHFTGYRIELQACNQDTPEERCSVAAYVSARTMPEAKADDIVGPVTHEIFENNVVHLMWQEPKEPNGLIVLYEVSYRRYGDEELHLCVSRKHFALERGCRLRGLSPGNYSVRIRATSLAGNGSWTEPTYFYVTDYLDVPSNIAKIIIGPLIFVFLFSVVIGSIYLFLRKRQPDGPLGPLYASSNPEYLSASDVFPCSVYVPDEWEVSREKITLLRELGQGSFGMVYEGNARDIIKGEAETRVAVKTVNESASLRERIEFLNEASVMKGFTCHHVVRLLGVVSKGQPTLVVMELMAHGDLKSYLRSLRPEAENNPGRPPPTLQEMIQMAAEIADGMAYLNAKKFVHRDLAARNCMVAHDFTVKIGDFGMTRDIYETDYYRKGGKGLLPVRWMAPESLKDGVFTTSSDMWSFGVVLWEITSLAEQPYQGLSNEQVLKFVMDGGYLDQPDNCPERVTDLMRMCWQFNPKMRPTFLEIVNLLKDDLHPSFPEVSFFHSEENKAPESEELEMEFEDMENVPLDRSSHCQREEAGGRDGGSSLGFKRSYEEHIPYTHMNGGKKNGRILTLPRSNPS\n",
      "MACLLTCLAFGL_FLLLVCPGMDIRNNLTRLHELANCSVIEGHLQILLMFKTRPEDFRDLSFPKLIMITDYLLLFRVYGLESLKDLFPNLTVIRGSRLFFNYALVIFEMVHLKELGLYSLMNITRGSVRIEKNNELCYLATIDWSRILDSVEDNYIVLNKDDNEECGDICPGTAKGKTSCPATVINGQFVERCWTHSHCQKVCPTICKSHGCTSEGLCCHSECLGNCSEPDDPTKCVACRNFYLDGRCVETCPPPYYHFQDWRCVNFSFCQDLHNKCKNSRRQGCHQYVIHNNKCIPECPSGYTMNSSNLMCTPCLGPCPKVCHILEGEKTIDSVTSAQELRGCTVVNGSLIINIRGGNNLAAELEANLGLIEEISGYLKIRRSYALVSLSFFRKLRLIRGETLEIGNYSFYALDNQNLRQLWDWSKHNLTITQGKLFFHYNPKLCLSEIHKMEEVSGTKGRQERNDIALKTNGDQASCENELLKFSYIRTSYDKILLKWEPYWPPDFRDLLGFMLFYKEAPYQNVTEFDGQDACGSNSWTVVDIDPPLRSNDPKSQNHPGWLMRGLKPWTQYAIFVKTLVTFSDERRTYGAKSDIIYVQTDATNPSVPLDPISVSNSSSQIILKWKPPSDPNGNITHYLVFWERQAEDSELYELDYCLKGLKLPSRTWSPPFEAEGSPKHNQSEHEESAGECCSCPKTDSQILKELEESSFRKTFEDYLHNVVFVPRP__________S__RKRRALRDVANVTAAVPTAAGFPNTST_STPTSPEERKPFEKVVNKESLVISGLRHFTGYRIELQACNQDAPEERCSVAAYVSARTMPEAKADDIVGPVTHEIFENNVVHLMWQEPKEPNGLIVLYEVSYRRYGDEELHLCVSRRHFALERGCRLRGLPPGNYSVRVRATSLAGNGSWTEATYFYVTDYLDVPSNIAKIIIGPLIFVFLFSVVIGSIYLFLRKRQPDGPLGPLYASSNPEYLSASDVFPCSVYVPDEWEVPREKITLLRELGQGSFGMVYEGNARDIVKGEAETRVAVKTVNESASLRERIEFLNEASVMKGFTCHHVVRLLGVVSKGQPTLVVMELMAHGDLKSYLRSLRPEAENNPGRPPPTLQEMIQMAAEIADGMAYLNAKKFVHRDLAARNCMVAHDFTVKIGDFGMTRDIYETDYYRKGGKGLLPVRWMAPESLKDGVFTTSSDMWSFGVVLWEITSLAEQPYQGLSNEQVLKFVMDGGYLDQPDNCPERVTDLMRMCWQFNPKMRPTFLEIVDLLKDDLHPSFPEVSFFHSEENKAPESEELEMEFEDMESVPLDRASHSQREEAGGRDGGSSLGLKRNYEEHIPYTHMNGGKKNGRILTLPRSNPS\n",
      "score =  6983.0\n",
      "s1  (16, 1381)\n",
      "s2  (2999, 4351)\n"
     ]
    }
   ],
   "source": [
    "print_local_elingment(solution)"
   ]
  },
  {
   "cell_type": "markdown",
   "metadata": {},
   "source": [
    "## Questions\n",
    "\n",
    "Answer the 6 questions below:\n",
    "\n",
    "1. What protein sequence will get the highest possible score when aligned against the **query** (using Local Alignment and the given scoring matrix)? Compute this score."
   ]
  },
  {
   "cell_type": "markdown",
   "metadata": {},
   "source": [
    "### Answer:  \n",
    "**Write your answer here**"
   ]
  },
  {
   "cell_type": "markdown",
   "metadata": {},
   "source": [
    "The proteins that will get the highest score in a local alignment with query are the proteins that contains the sequence of the gene."
   ]
  },
  {
   "cell_type": "code",
   "execution_count": 11,
   "metadata": {
    "ExecuteTime": {
     "end_time": "2019-03-27T15:49:37.632620Z",
     "start_time": "2019-03-27T15:49:32.453157Z"
    }
   },
   "outputs": [
    {
     "name": "stdout",
     "output_type": "stream",
     "text": [
      "ATGGRRGAAAAPLLVAVAALLLGAAGHLYPGEVCPGMDIRNNLTRLHELENCSVIEGHLQILLMFKTRPEDFRDLSFPKLIMITDYLLLFRVYGLESLKDLFPNLTVIRGSRLFFNYALVIFEMVHLKELGLYNLMNITRGSVRIEKNNELCYLATIDWSRILDSVEDNYIVLNKDDNEECGDICPGTAKGKTNCPATVINGQFVERCWTHSHCQKVCPTICKSHGCTAEGLCCHSECLGNCSQPDDPTKCVACRNFYLDGRCVETCPPPYYHFQDWRCVNFSFCQDLHHKCKNSRRQGCHQYVIHNNKCIPECPSGYTMNSSNLLCTPCLGPCPKVCHLLEGEKTIDSVTSAQELRGCTVINGSLIINIRGGNNLAAELEANLGLIEEISGYLKIRRSYALVSLSFFRKLRLIRGETLEIGNYSFYALDNQNLRQLWDWSKHNLTITQGKLFFHYNPKLCLSEIHKMEEVSGTKGRQERNDIALKTNGDQASCENELLKFSYIRTSFDKILLRWEPYWPPDFRDLLGFMLFYKEAPYQNVTEFDGQDACGSNSWTVVDIDPPLRSNDPKSQNHPGWLMRGLKPWTQYAIFVKTLVTFSDERRTYGAKSDIIYVQTDATNPSVPLDPISVSNSSSQIILKWKPPSDPNGNITHYLVFWERQAEDSELFELDYCLKGLKLPSRTWSPPFESEDSQKHNQSEYEDSAGECCSCPKTDSQILKELEESSFRKTFEDYLHNVVFVPRKTSSGTGAEDPRPSRKRRSLGDVGNVTVAVPTVAAFPNTSSTSVPTSPEEHRPFEKVVNKESLVISGLRHFTGYRIELQACNQDTPEERCSVAAYVSARTMPEAKADDIVGPVTHEIFENNVVHLMWQEPKEPNGLIVLYEVSYRRYGDEELHLCVSRKHFALERGCRLRGLSPGNYSVRIRATSLAGNGSWTEPTYFYVTDYLDVPSNIAKIIIGPLIFVFLFSVVIGSIYLFLRKRQPDGPLGPLYASSNPEYLSASDVFPCSVYVPDEWEVSREKITLLRELGQGSFGMVYEGNARDIIKGEAETRVAVKTVNESASLRERIEFLNEASVMKGFTCHHVVRLLGVVSKGQPTLVVMELMAHGDLKSYLRSLRPEAENNPGRPPPTLQEMIQMAAEIADGMAYLNAKKFVHRDLAARNCMVAHDFTVKIGDFGMTRDIYETDYYRKGGKGLLPVRWMAPESLKDGVFTTSSDMWSFGVVLWEITSLAEQPYQGLSNEQVLKFVMDGGYLDQPDNCPERVTDLMRMCWQFNPKMRPTFLEIVNLLKDDLHPSFPEVSFFHSEENKAPESEELEMEFEDMENVPLDRSSHCQREEAGGRDGGSSLGFKRSYEEHIPYTHMNGGKKNGRILTLPRSNPS\n",
      "ATGGRRGAAAAPLLVAVAALLLGAAGHLYPGEVCPGMDIRNNLTRLHELENCSVIEGHLQILLMFKTRPEDFRDLSFPKLIMITDYLLLFRVYGLESLKDLFPNLTVIRGSRLFFNYALVIFEMVHLKELGLYNLMNITRGSVRIEKNNELCYLATIDWSRILDSVEDNYIVLNKDDNEECGDICPGTAKGKTNCPATVINGQFVERCWTHSHCQKVCPTICKSHGCTAEGLCCHSECLGNCSQPDDPTKCVACRNFYLDGRCVETCPPPYYHFQDWRCVNFSFCQDLHHKCKNSRRQGCHQYVIHNNKCIPECPSGYTMNSSNLLCTPCLGPCPKVCHLLEGEKTIDSVTSAQELRGCTVINGSLIINIRGGNNLAAELEANLGLIEEISGYLKIRRSYALVSLSFFRKLRLIRGETLEIGNYSFYALDNQNLRQLWDWSKHNLTITQGKLFFHYNPKLCLSEIHKMEEVSGTKGRQERNDIALKTNGDQASCENELLKFSYIRTSFDKILLRWEPYWPPDFRDLLGFMLFYKEAPYQNVTEFDGQDACGSNSWTVVDIDPPLRSNDPKSQNHPGWLMRGLKPWTQYAIFVKTLVTFSDERRTYGAKSDIIYVQTDATNPSVPLDPISVSNSSSQIILKWKPPSDPNGNITHYLVFWERQAEDSELFELDYCLKGLKLPSRTWSPPFESEDSQKHNQSEYEDSAGECCSCPKTDSQILKELEESSFRKTFEDYLHNVVFVPRKTSSGTGAEDPRPSRKRRSLGDVGNVTVAVPTVAAFPNTSSTSVPTSPEEHRPFEKVVNKESLVISGLRHFTGYRIELQACNQDTPEERCSVAAYVSARTMPEAKADDIVGPVTHEIFENNVVHLMWQEPKEPNGLIVLYEVSYRRYGDEELHLCVSRKHFALERGCRLRGLSPGNYSVRIRATSLAGNGSWTEPTYFYVTDYLDVPSNIAKIIIGPLIFVFLFSVVIGSIYLFLRKRQPDGPLGPLYASSNPEYLSASDVFPCSVYVPDEWEVSREKITLLRELGQGSFGMVYEGNARDIIKGEAETRVAVKTVNESASLRERIEFLNEASVMKGFTCHHVVRLLGVVSKGQPTLVVMELMAHGDLKSYLRSLRPEAENNPGRPPPTLQEMIQMAAEIADGMAYLNAKKFVHRDLAARNCMVAHDFTVKIGDFGMTRDIYETDYYRKGGKGLLPVRWMAPESLKDGVFTTSSDMWSFGVVLWEITSLAEQPYQGLSNEQVLKFVMDGGYLDQPDNCPERVTDLMRMCWQFNPKMRPTFLEIVNLLKDDLHPSFPEVSFFHSEENKAPESEELEMEFEDMENVPLDRSSHCQREEAGGRDGGSSLGFKRSYEEHIPYTHMNGGKKNGRILTLPRSNPS\n",
      "score =  7424.0\n",
      "s1  (0, 1381)\n",
      "s2  (0, 1381)\n"
     ]
    }
   ],
   "source": [
    "print_local_elingment(local_elingment(seq1, seq1, scoring_matrix))"
   ]
  },
  {
   "cell_type": "markdown",
   "metadata": {},
   "source": [
    "2. What is the optimal score of a local alignment between query and database, in comparison to the score computed in (1)? What can you conclude? "
   ]
  },
  {
   "cell_type": "markdown",
   "metadata": {},
   "source": [
    "### Answer:  \n",
    "**Write your answer here**"
   ]
  },
  {
   "cell_type": "markdown",
   "metadata": {},
   "source": [
    "The difference between the scores of the alignments indicates that the data does not contain query.\n",
    "Furthermore, there was a 94.06% match in the alignment of the gene and the data so we can conclude there is homology between the two."
   ]
  },
  {
   "cell_type": "markdown",
   "metadata": {},
   "source": [
    "3. Plot a heatmap of the dynamic programming table, using [matplotlib.pyplot.imshow](https://matplotlib.org/api/_as_gen/matplotlib.pyplot.imshow.html), for example:"
   ]
  },
  {
   "cell_type": "code",
   "execution_count": 12,
   "metadata": {
    "ExecuteTime": {
     "end_time": "2019-03-27T15:49:38.449317Z",
     "start_time": "2019-03-27T15:49:37.634721Z"
    }
   },
   "outputs": [
    {
     "data": {
      "text/plain": [
       "<matplotlib.image.AxesImage at 0x7f1b288f74e0>"
      ]
     },
     "execution_count": 12,
     "metadata": {},
     "output_type": "execute_result"
    },
    {
     "data": {
      "image/png": "[encoded data removed]",
      "text/plain": [
       "<Figure size 1296x216 with 1 Axes>"
      ]
     },
     "metadata": {},
     "output_type": "display_data"
    }
   ],
   "source": [
    "import matplotlib.pyplot as plt\n",
    "%matplotlib inline \n",
    "\n",
    "matrix = [[1, 0, 5],\n",
    "          [5, 6, 20],\n",
    "          [0, 17, 0]]\n",
    "plt.figure(figsize=(18,3))\n",
    "plt.imshow(matrix, aspect='auto', cmap='inferno')"
   ]
  },
  {
   "cell_type": "markdown",
   "metadata": {},
   "source": [
    "It is recommended you use figure size and color map from this example"
   ]
  },
  {
   "cell_type": "code",
   "execution_count": 13,
   "metadata": {
    "ExecuteTime": {
     "end_time": "2019-03-27T15:49:50.923169Z",
     "start_time": "2019-03-27T15:49:38.452053Z"
    },
    "code_folding": []
   },
   "outputs": [
    {
     "data": {
      "text/plain": [
       "<matplotlib.image.AxesImage at 0x7f1b2880ab38>"
      ]
     },
     "execution_count": 13,
     "metadata": {},
     "output_type": "execute_result"
    },
    {
     "data": {
      "image/png": "[encoded data removed]",
      "text/plain": [
       "<Figure size 1296x216 with 1 Axes>"
      ]
     },
     "metadata": {},
     "output_type": "display_data"
    }
   ],
   "source": [
    "import matplotlib.pyplot as plt\n",
    "%matplotlib inline \n",
    "\n",
    "plt.figure(figsize=(18,3))\n",
    "plt.imshow(dynamic_prog_table, aspect='auto', cmap='inferno')"
   ]
  },
  {
   "cell_type": "markdown",
   "metadata": {},
   "source": [
    "4. What can you tell from this heatmap about the query and the database?"
   ]
  },
  {
   "cell_type": "markdown",
   "metadata": {},
   "source": [
    "### Answer:  \n",
    "**Write your answer here**"
   ]
  },
  {
   "cell_type": "markdown",
   "metadata": {},
   "source": [
    "It is clear to see that most of the map is black, which indicates that most of the values in the dynamic programming marix are zero. Furthermore, it appears as though the values that does not equal to zero are centered in one place in the matrix, and so this is the area of alignment in the local alignment. For these reasons we will conclude that the parts is the matrix that contains zero values could have been trimmed, thus saving running time in finding the alignment. "
   ]
  },
  {
   "cell_type": "markdown",
   "metadata": {},
   "source": [
    "5. Run a [BlastP](https://blast.ncbi.nlm.nih.gov/Blast.cgi?PAGE=Proteins) search (Blast for proteins) using the query. Just copy the sequence into the input box and press on 'BLAST' button. What did you get?\n",
    " "
   ]
  },
  {
   "cell_type": "markdown",
   "metadata": {},
   "source": [
    "### Answer:  \n",
    "**Write your answer here**"
   ]
  },
  {
   "cell_type": "code",
   "execution_count": 14,
   "metadata": {
    "ExecuteTime": {
     "end_time": "2019-03-27T15:49:50.930675Z",
     "start_time": "2019-03-27T15:49:50.925299Z"
    }
   },
   "outputs": [
    {
     "name": "stdout",
     "output_type": "stream",
     "text": [
      "MATGGRRGAAAAPLLVAVAALLLGAAGHLYPGEVCPGMDIRNNLTRLHELENCSVIEGHLQILLMFKTRPEDFRDLSFPKLIMITDYLLLFRVYGLESLKDLFPNLTVIRGSRLFFNYALVIFEMVHLKELGLYNLMNITRGSVRIEKNNELCYLATIDWSRILDSVEDNYIVLNKDDNEECGDICPGTAKGKTNCPATVINGQFVERCWTHSHCQKVCPTICKSHGCTAEGLCCHSECLGNCSQPDDPTKCVACRNFYLDGRCVETCPPPYYHFQDWRCVNFSFCQDLHHKCKNSRRQGCHQYVIHNNKCIPECPSGYTMNSSNLLCTPCLGPCPKVCHLLEGEKTIDSVTSAQELRGCTVINGSLIINIRGGNNLAAELEANLGLIEEISGYLKIRRSYALVSLSFFRKLRLIRGETLEIGNYSFYALDNQNLRQLWDWSKHNLTITQGKLFFHYNPKLCLSEIHKMEEVSGTKGRQERNDIALKTNGDQASCENELLKFSYIRTSFDKILLRWEPYWPPDFRDLLGFMLFYKEAPYQNVTEFDGQDACGSNSWTVVDIDPPLRSNDPKSQNHPGWLMRGLKPWTQYAIFVKTLVTFSDERRTYGAKSDIIYVQTDATNPSVPLDPISVSNSSSQIILKWKPPSDPNGNITHYLVFWERQAEDSELFELDYCLKGLKLPSRTWSPPFESEDSQKHNQSEYEDSAGECCSCPKTDSQILKELEESSFRKTFEDYLHNVVFVPRKTSSGTGAEDPRPSRKRRSLGDVGNVTVAVPTVAAFPNTSSTSVPTSPEEHRPFEKVVNKESLVISGLRHFTGYRIELQACNQDTPEERCSVAAYVSARTMPEAKADDIVGPVTHEIFENNVVHLMWQEPKEPNGLIVLYEVSYRRYGDEELHLCVSRKHFALERGCRLRGLSPGNYSVRIRATSLAGNGSWTEPTYFYVTDYLDVPSNIAKIIIGPLIFVFLFSVVIGSIYLFLRKRQPDGPLGPLYASSNPEYLSASDVFPCSVYVPDEWEVSREKITLLRELGQGSFGMVYEGNARDIIKGEAETRVAVKTVNESASLRERIEFLNEASVMKGFTCHHVVRLLGVVSKGQPTLVVMELMAHGDLKSYLRSLRPEAENNPGRPPPTLQEMIQMAAEIADGMAYLNAKKFVHRDLAARNCMVAHDFTVKIGDFGMTRDIYETDYYRKGGKGLLPVRWMAPESLKDGVFTTSSDMWSFGVVLWEITSLAEQPYQGLSNEQVLKFVMDGGYLDQPDNCPERVTDLMRMCWQFNPKMRPTFLEIVNLLKDDLHPSFPEVSFFHSEENKAPESEELEMEFEDMENVPLDRSSHCQREEAGGRDGGSSLGFKRSYEEHIPYTHMNGGKKNGRILTLPRSNPS\n"
     ]
    }
   ],
   "source": [
    "print(seq1)"
   ]
  },
  {
   "cell_type": "markdown",
   "metadata": {},
   "source": [
    "There was a 100% match between the gene sequence and the data base to which the site is compared to. That is, there is a genome in the database that contains this sequence."
   ]
  },
  {
   "cell_type": "markdown",
   "metadata": {},
   "source": [
    "6. Run BlastP on the **database[start:end]** where start is the first index of the optimal alignment and end is the end index of the alignment. What did you get?"
   ]
  },
  {
   "cell_type": "markdown",
   "metadata": {},
   "source": [
    "### Answer:  \n",
    "**Write your answer here**"
   ]
  },
  {
   "cell_type": "markdown",
   "metadata": {},
   "source": [
    "There was a 100% match between sequence 2 and the sequence from the data base also, but for sequence 2 it was stated that the alignment is a \"guess\". From this we conclude that the database contains a very similar but different sequence from this sequence. In addition to the results of BLAST, it appears as though the two sequences (1 and 2) matches two genes with the same role. Also, according to the scores of the alignments on the previous questions, this two sequences are indeed very similar, so it can be concluded that BLAST found that sequence 2 matches sequence 1 or a similar sequence from the same family of genes."
   ]
  }
 ],
 "metadata": {
  "kernelspec": {
   "display_name": "Python 3",
   "language": "python",
   "name": "python3"
  },
  "language_info": {
   "codemirror_mode": {
    "name": "ipython",
    "version": 3
   },
   "file_extension": ".py",
   "mimetype": "text/x-python",
   "name": "python",
   "nbconvert_exporter": "python",
   "pygments_lexer": "ipython3",
   "version": "3.6.8"
  },
  "toc": {
   "base_numbering": 1,
   "nav_menu": {},
   "number_sections": true,
   "sideBar": true,
   "skip_h1_title": false,
   "title_cell": "Table of Contents",
   "title_sidebar": "Contents",
   "toc_cell": false,
   "toc_position": {},
   "toc_section_display": true,
   "toc_window_display": false
  },
  "varInspector": {
   "cols": {
    "lenName": 16,
    "lenType": 16,
    "lenVar": 40
   },
   "kernels_config": {
    "python": {
     "delete_cmd_postfix": "",
     "delete_cmd_prefix": "del ",
     "library": "var_list.py",
     "varRefreshCmd": "print(var_dic_list())"
    },
    "r": {
     "delete_cmd_postfix": ") ",
     "delete_cmd_prefix": "rm(",
     "library": "var_list.r",
     "varRefreshCmd": "cat(var_dic_list()) "
    }
   },
   "types_to_exclude": [
    "module",
    "function",
    "builtin_function_or_method",
    "instance",
    "_Feature"
   ],
   "window_display": false
  }
 },
 "nbformat": 4,
 "nbformat_minor": 2
}
